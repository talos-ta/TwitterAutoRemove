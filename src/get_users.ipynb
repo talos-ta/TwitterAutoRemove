{
 "cells": [
  {
   "cell_type": "markdown",
   "metadata": {},
   "source": [
    "# フォローしている人を全件抽出"
   ]
  },
  {
   "cell_type": "code",
   "execution_count": 1,
   "metadata": {},
   "outputs": [],
   "source": [
    "import tweepy\n",
    "import pandas as pd"
   ]
  },
  {
   "cell_type": "code",
   "execution_count": 2,
   "metadata": {},
   "outputs": [],
   "source": [
    "CK = '****'    # API KEY\n",
    "CS = '****'    # API secret key\n",
    "AT = '****'    # Access token\n",
    "AS = '****'    # Access token secret"
   ]
  },
  {
   "cell_type": "code",
   "execution_count": 3,
   "metadata": {},
   "outputs": [],
   "source": [
    "auth = tweepy.OAuthHandler(CK, CS)\n",
    "auth.set_access_token(AT, AS)\n",
    "api = tweepy.API(auth, wait_on_rate_limit=True)"
   ]
  },
  {
   "cell_type": "markdown",
   "metadata": {},
   "source": [
    "## フォロワー・フォロー格納用DataFrame"
   ]
  },
  {
   "cell_type": "code",
   "execution_count": 4,
   "metadata": {},
   "outputs": [],
   "source": [
    "cols = ['id']\n",
    "followers_ids = pd.DataFrame([], columns=cols)\n",
    "followings_ids = pd.DataFrame([], columns=cols)"
   ]
  },
  {
   "cell_type": "markdown",
   "metadata": {},
   "source": [
    "## フォロワーを取得"
   ]
  },
  {
   "cell_type": "code",
   "execution_count": 5,
   "metadata": {},
   "outputs": [],
   "source": [
    "# Enter your account name to '****'.\n",
    "itr = tweepy.Cursor(api.followers_ids, id='****', cursor=-1).items()   \n",
    "for follower_id in itr:\n",
    "    record = pd.Series([follower_id], index=followers_ids.columns)\n",
    "    followers_ids = followers_ids.append(record, ignore_index=True)"
   ]
  },
  {
   "cell_type": "markdown",
   "metadata": {},
   "source": [
    "## フォローを取得"
   ]
  },
  {
   "cell_type": "code",
   "execution_count": 6,
   "metadata": {},
   "outputs": [],
   "source": [
    "# Enter your account name to '****'.\n",
    "itr = tweepy.Cursor(api.friends_ids, id='****', cursor=-1).items()   \n",
    "for following_id in itr:\n",
    "    record = pd.Series([following_id], index=followings_ids.columns)\n",
    "    followings_ids = followings_ids.append(record, ignore_index=True)"
   ]
  },
  {
   "cell_type": "code",
   "execution_count": 7,
   "metadata": {},
   "outputs": [],
   "source": [
    "followers_ids.to_csv('../csv/followers.csv')\n",
    "followings_ids.to_csv('../csv/followings.csv')"
   ]
  }
 ],
 "metadata": {
  "kernelspec": {
   "display_name": "Python 3",
   "language": "python",
   "name": "python3"
  },
  "language_info": {
   "codemirror_mode": {
    "name": "ipython",
    "version": 3
   },
   "file_extension": ".py",
   "mimetype": "text/x-python",
   "name": "python",
   "nbconvert_exporter": "python",
   "pygments_lexer": "ipython3",
   "version": "3.7.6"
  }
 },
 "nbformat": 4,
 "nbformat_minor": 4
}
